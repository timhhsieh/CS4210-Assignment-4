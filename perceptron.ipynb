{
 "cells": [
  {
   "cell_type": "code",
   "execution_count": 1,
   "id": "3a10c08a",
   "metadata": {},
   "outputs": [
    {
     "name": "stdout",
     "output_type": "stream",
     "text": [
      "Highest Perceptron accuracy so far: 0.92, Parameters: learning rate=0.0001, shuffle=True\n",
      "Highest MLP accuracy so far: 0.95, Parameters: learning rate=0.0001, shuffle=True\n",
      "Highest MLP accuracy so far: 0.96, Parameters: learning rate=0.0005, shuffle=True\n",
      "Highest Perceptron accuracy so far: 0.93, Parameters: learning rate=0.0005, shuffle=False\n",
      "Highest MLP accuracy so far: 0.96, Parameters: learning rate=0.001, shuffle=True\n",
      "Highest Perceptron accuracy so far: 0.94, Parameters: learning rate=0.001, shuffle=False\n"
     ]
    }
   ],
   "source": [
    "#-------------------------------------------------------------------------\n",
    "# AUTHOR: Tim Hsieh\n",
    "# FILENAME: perception.py\n",
    "# SPECIFICATION: accuracy testing single layer perceptron and a multi-layer perceptron classifier. \n",
    "# FOR: CS 4210- Assignment #4\n",
    "# TIME SPENT: 5 hours\n",
    "#-----------------------------------------------------------*/\n",
    "\n",
    "#IMPORTANT NOTE: YOU HAVE TO WORK WITH THE PYTHON LIBRARIES numpy AND pandas to complete this code.\n",
    "\n",
    "#importing some Python libraries\n",
    "from sklearn.linear_model import Perceptron\n",
    "from sklearn.neural_network import MLPClassifier #pip install scikit-learn==0.18.rc2 if needed\n",
    "import numpy as np\n",
    "import pandas as pd\n",
    "\n",
    "n = [0.0001, 0.0005, 0.001, 0.005, 0.01, 0.05, 0.1, 0.5, 1.0]\n",
    "r = [True, False]\n",
    "\n",
    "df = pd.read_csv('optdigits.tra', sep=',', header=None) #reading the data by using Pandas library\n",
    "\n",
    "X_training = np.array(df.values)[:,:64] #getting the first 64 fields to form the feature data for training\n",
    "y_training = np.array(df.values)[:,-1]  #getting the last field to form the class label for training\n",
    "\n",
    "df = pd.read_csv('optdigits.tes', sep=',', header=None) #reading the data by using Pandas library\n",
    "\n",
    "X_test = np.array(df.values)[:,:64]    #getting the first 64 fields to form the feature data for test\n",
    "y_test = np.array(df.values)[:,-1]     #getting the last field to form the class label for test\n",
    "\n",
    "for learning_rate in n: #iterates over n\n",
    "\n",
    "    for shuffle_data in r: #iterates over r\n",
    "\n",
    "        #iterates over both algorithms\n",
    "        for algorithm in ['Perceptron', 'MLPClassifier']: # iterates over the algorithms\n",
    "            if algorithm == 'Perceptron':\n",
    "                clf = Perceptron(eta0=learning_rate, shuffle=shuffle_data, max_iter=5000)\n",
    "            else:\n",
    "                clf = MLPClassifier(activation='logistic', learning_rate_init=learning_rate,\n",
    "                                    hidden_layer_sizes=(25,), shuffle=shuffle_data, max_iter=5000)\n",
    "\n",
    "            #Fit the Neural Network to the training data\n",
    "            clf.fit(X_training, y_training)\n",
    "\n",
    "            #make the classifier prediction for each test sample and start computing its accuracy\n",
    "            #hint: to iterate over two collections simultaneously with zip() Example:\n",
    "            #for (x_testSample, y_testSample) in zip(X_test, y_test):\n",
    "            #to make a prediction do: clf.predict([x_testSample])\n",
    "            correct_predictions = 0\n",
    "            for x_testSample, y_testSample in zip(X_test, y_test):\n",
    "                prediction = clf.predict([x_testSample])\n",
    "                if prediction == y_testSample:\n",
    "                    correct_predictions += 1\n",
    "\n",
    "\n",
    "            #check if the calculated accuracy is higher than the previously one calculated for each classifier. If so, update the highest accuracy\n",
    "            #and print it together with the network hyperparameters\n",
    "            #Example: \"Highest Perceptron accuracy so far: 0.88, Parameters: learning rate=0.01, shuffle=True\"\n",
    "            #Example: \"Highest MLP accuracy so far: 0.90, Parameters: learning rate=0.02, shuffle=False\"\n",
    "            accuracy = correct_predictions / len(y_test)\n",
    "            if algorithm == 'Perceptron':\n",
    "                if 'highest_perceptron_accuracy' not in locals() or accuracy > highest_perceptron_accuracy:\n",
    "                    highest_perceptron_accuracy = accuracy\n",
    "                    print(f\"Highest Perceptron accuracy so far: {highest_perceptron_accuracy:.2f}, Parameters: learning rate={learning_rate}, shuffle={shuffle_data}\")\n",
    "            else:\n",
    "                if 'highest_MLP_accuracy' not in locals() or accuracy > highest_MLP_accuracy:\n",
    "                    highest_MLP_accuracy = accuracy\n",
    "                    print(f\"Highest MLP accuracy so far: {highest_MLP_accuracy:.2f}, Parameters: learning rate={learning_rate}, shuffle={shuffle_data}\")"
   ]
  },
  {
   "cell_type": "code",
   "execution_count": null,
   "id": "2a3632b8",
   "metadata": {},
   "outputs": [],
   "source": []
  }
 ],
 "metadata": {
  "kernelspec": {
   "display_name": "Python 3 (ipykernel)",
   "language": "python",
   "name": "python3"
  },
  "language_info": {
   "codemirror_mode": {
    "name": "ipython",
    "version": 3
   },
   "file_extension": ".py",
   "mimetype": "text/x-python",
   "name": "python",
   "nbconvert_exporter": "python",
   "pygments_lexer": "ipython3",
   "version": "3.10.9"
  }
 },
 "nbformat": 4,
 "nbformat_minor": 5
}
